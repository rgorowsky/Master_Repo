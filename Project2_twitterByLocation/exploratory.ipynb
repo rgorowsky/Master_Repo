{
 "cells": [
  {
   "cell_type": "code",
   "execution_count": 1,
   "metadata": {},
   "outputs": [],
   "source": [
    "# Import all packages and authentification details\n",
    "\n",
    "# packages lists\n",
    "from vaderSentiment.vaderSentiment import SentimentIntensityAnalyzer\n",
    "analyzer = SentimentIntensityAnalyzer()\n",
    "import tweepy\n",
    "import pandas as pd\n",
    "import numpy as np\n",
    "import time\n",
    "import pprint\n",
    "import json\n",
    "import matplotlib \n",
    "import matplotlib.pyplot as plt\n",
    "import seaborn\n",
    "from config import (consumer_key, consumer_secret,\n",
    "                    access_token, access_token_secret)\n",
    "\n",
    "# Setup Tweepy API Authentication\n",
    "auth = tweepy.OAuthHandler(consumer_key, consumer_secret)\n",
    "auth.set_access_token(access_token, access_token_secret)\n",
    "api = tweepy.API(auth, parser=tweepy.parsers.JSONParser())"
   ]
  },
  {
   "cell_type": "code",
   "execution_count": 2,
   "metadata": {},
   "outputs": [],
   "source": [
    "# Target da boys User Accounts\n",
    "\n",
    "target_users = [ \"hunglikeahorse7\",\n",
    "\"P_Reed002\",\n",
    "\"joe_scotia\"]"
   ]
  },
  {
   "cell_type": "code",
   "execution_count": 14,
   "metadata": {},
   "outputs": [],
   "source": [
    "# THIS CELL WILL GRAB THE \"\", \"\", AND \"\" VALUES AND PUT THEM INTO THE LISTS MADE IN THE PREVIOUS CELL \n",
    "\n",
    "#pretty print\n",
    "#pp = pprint.PrettyPrinter(indent=4)\n",
    "\n",
    "#create the dictionary that we will put our columns (as lists) in\n",
    "counter = 0 \n",
    "\n",
    "tweet_data = {\"twt_source\": [],\n",
    "             \"twt_text\": [],\n",
    "             \"twt_date\": []}\n",
    "\n",
    "#second for loop, basically will loop through the different news sources\n",
    "for users in target_users:\n",
    "    \n",
    "    \n",
    "    # Loop through 5 pages of tweets (total 100 tweets per target user)\n",
    "    for x in range(0, 35):\n",
    "        public_tweets = api.user_timeline(users, page=x)\n",
    "        \n",
    "        #another for loop\n",
    "        for tweet in public_tweets:\n",
    "            tweet_data[\"twt_source\"].append(tweet[\"user\"][\"name\"])  \n",
    "            tweet_data[\"twt_text\"].append(tweet[\"text\"])            \n",
    "            tweet_data[\"twt_date\"].append(tweet[\"created_at\"])  \n",
    "\n",
    "            counter = counter + 1\n"
   ]
  },
  {
   "cell_type": "code",
   "execution_count": 15,
   "metadata": {},
   "outputs": [
    {
     "data": {
      "text/html": [
       "<div>\n",
       "<style scoped>\n",
       "    .dataframe tbody tr th:only-of-type {\n",
       "        vertical-align: middle;\n",
       "    }\n",
       "\n",
       "    .dataframe tbody tr th {\n",
       "        vertical-align: top;\n",
       "    }\n",
       "\n",
       "    .dataframe thead th {\n",
       "        text-align: right;\n",
       "    }\n",
       "</style>\n",
       "<table border=\"1\" class=\"dataframe\">\n",
       "  <thead>\n",
       "    <tr style=\"text-align: right;\">\n",
       "      <th></th>\n",
       "      <th>twt_source</th>\n",
       "      <th>twt_text</th>\n",
       "      <th>twt_date</th>\n",
       "    </tr>\n",
       "  </thead>\n",
       "  <tbody>\n",
       "    <tr>\n",
       "      <th>0</th>\n",
       "      <td>Chad Jameson</td>\n",
       "      <td>@joe_scotia https://t.co/L70R2mPoVy</td>\n",
       "      <td>Wed Oct 17 13:23:09 +0000 2018</td>\n",
       "    </tr>\n",
       "    <tr>\n",
       "      <th>1</th>\n",
       "      <td>Chad Jameson</td>\n",
       "      <td>@joe_scotia @P_Reed002 I didn't vote. https://...</td>\n",
       "      <td>Thu Oct 04 03:28:31 +0000 2018</td>\n",
       "    </tr>\n",
       "    <tr>\n",
       "      <th>2</th>\n",
       "      <td>Chad Jameson</td>\n",
       "      <td>And to think we kept carlson over forbath</td>\n",
       "      <td>Sun Sep 16 20:26:55 +0000 2018</td>\n",
       "    </tr>\n",
       "    <tr>\n",
       "      <th>3</th>\n",
       "      <td>Chad Jameson</td>\n",
       "      <td>And to think we kept treadwell over jarius wri...</td>\n",
       "      <td>Sun Sep 16 19:55:49 +0000 2018</td>\n",
       "    </tr>\n",
       "    <tr>\n",
       "      <th>4</th>\n",
       "      <td>Chad Jameson</td>\n",
       "      <td>RT @PretendLouHoltz: Rutgersh vershus Kanshas ...</td>\n",
       "      <td>Sun Sep 16 04:40:10 +0000 2018</td>\n",
       "    </tr>\n",
       "  </tbody>\n",
       "</table>\n",
       "</div>"
      ],
      "text/plain": [
       "     twt_source                                           twt_text  \\\n",
       "0  Chad Jameson                @joe_scotia https://t.co/L70R2mPoVy   \n",
       "1  Chad Jameson  @joe_scotia @P_Reed002 I didn't vote. https://...   \n",
       "2  Chad Jameson          And to think we kept carlson over forbath   \n",
       "3  Chad Jameson  And to think we kept treadwell over jarius wri...   \n",
       "4  Chad Jameson  RT @PretendLouHoltz: Rutgersh vershus Kanshas ...   \n",
       "\n",
       "                         twt_date  \n",
       "0  Wed Oct 17 13:23:09 +0000 2018  \n",
       "1  Thu Oct 04 03:28:31 +0000 2018  \n",
       "2  Sun Sep 16 20:26:55 +0000 2018  \n",
       "3  Sun Sep 16 19:55:49 +0000 2018  \n",
       "4  Sun Sep 16 04:40:10 +0000 2018  "
      ]
     },
     "execution_count": 15,
     "metadata": {},
     "output_type": "execute_result"
    }
   ],
   "source": [
    "# put the dictionary into a data frame\n",
    "tweet_data_df = pd.DataFrame.from_dict(tweet_data)\n",
    "tweet_data_df[\"twt_source\"].unique()\n",
    "\n",
    "tweet_data_df.head()"
   ]
  },
  {
   "cell_type": "code",
   "execution_count": 16,
   "metadata": {},
   "outputs": [
    {
     "data": {
      "text/plain": [
       "twt_source    2038\n",
       "twt_text      2038\n",
       "twt_date      2038\n",
       "dtype: int64"
      ]
     },
     "execution_count": 16,
     "metadata": {},
     "output_type": "execute_result"
    }
   ],
   "source": [
    "# how many rows of data are we working with?\n",
    "tweet_data_df.count()"
   ]
  },
  {
   "cell_type": "code",
   "execution_count": 28,
   "metadata": {},
   "outputs": [
    {
     "data": {
      "text/plain": [
       "phone              6\n",
       "called             6\n",
       "league             6\n",
       "thank              6\n",
       "pro                6\n",
       "@uwecblugolds:     6\n",
       "remember           6\n",
       "@mimmerb123        6\n",
       "#blugoldpuck       6\n",
       "@deoornodeal       6\n",
       "though.            6\n",
       "@jeremy_roenick    6\n",
       "bar                6\n",
       "place              6\n",
       "thought            6\n",
       "month              6\n",
       "probably           6\n",
       "almost             6\n",
       "pass               6\n",
       "respect            6\n",
       "qb                 6\n",
       "making             6\n",
       "special            6\n",
       "kick               6\n",
       "yes                6\n",
       "decided            6\n",
       "minutes            6\n",
       "lost               6\n",
       "awful              6\n",
       "leave              6\n",
       "youre              6\n",
       "wearing            6\n",
       "definitely         6\n",
       "both               6\n",
       "jon                6\n",
       "@juecoo            6\n",
       "left               6\n",
       "u                  6\n",
       "‼️                 6\n",
       "even               6\n",
       "wonder             6\n",
       "bowl               6\n",
       "whole              6\n",
       "1st                6\n",
       "sports             6\n",
       "series             6\n",
       "terrible           6\n",
       "@buffalosabres:    6\n",
       "own                6\n",
       "oh                 6\n",
       "dtype: int64"
      ]
     },
     "execution_count": 28,
     "metadata": {},
     "output_type": "execute_result"
    }
   ],
   "source": [
    "# group by twt_source and find the most common word texted\n",
    "pd.Series(' '.join(tweet_data_df['twt_text']).lower().split()).value_counts()[450:500]"
   ]
  },
  {
   "cell_type": "code",
   "execution_count": null,
   "metadata": {},
   "outputs": [],
   "source": [
    "# second plot\n",
    "second_one = tweet_data_df.groupby([\"twt_source\"]).mean()[\"twt_vader\"]\n",
    "pd.DataFrame(second_one)\n",
    "second_one[0]\n",
    "\n",
    "# make x and y variables\n",
    "y_data = [second_one[\n",
    "x_data = [np.arange(len(second_one)])\n",
    "\n",
    "#height = np.arange(len[])\n",
    "# make a bar plot\n",
    "plt.bar(x_data[0], second_one[0])\n",
    "plt.bar(x_data[1], y_data)\n",
    "plt.bar(x_data[2], y_data)          \n",
    "plt.bar(x_data[3], y_data)\n",
    "plt.bar(x_data[4], y_data)"
   ]
  },
  {
   "cell_type": "code",
   "execution_count": null,
   "metadata": {},
   "outputs": [],
   "source": []
  }
 ],
 "metadata": {
  "kernelspec": {
   "display_name": "Python [default]",
   "language": "python",
   "name": "python3"
  },
  "language_info": {
   "codemirror_mode": {
    "name": "ipython",
    "version": 3
   },
   "file_extension": ".py",
   "mimetype": "text/x-python",
   "name": "python",
   "nbconvert_exporter": "python",
   "pygments_lexer": "ipython3",
   "version": "3.7.0"
  }
 },
 "nbformat": 4,
 "nbformat_minor": 2
}
